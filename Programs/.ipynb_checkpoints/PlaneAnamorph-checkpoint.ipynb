{
 "metadata": {
  "name": "",
  "signature": "sha256:2555153d3e264055541f1a31c82034fa85e348477f8a6155a01ef24ce070a872"
 },
 "nbformat": 3,
 "nbformat_minor": 0,
 "worksheets": [
  {
   "cells": [
    {
     "cell_type": "heading",
     "level": 1,
     "metadata": {},
     "source": [
      "Plane Anamorphism"
     ]
    },
    {
     "cell_type": "markdown",
     "metadata": {},
     "source": [
      "/**\n",
      " * Author: Van Mai Nguyen Thi\n",
      " * Senior Project\n",
      " * October 2014\n",
      " * \n",
      " * 1. Calibrate: \n",
      " *    a. Project 4 bright dots\n",
      " *    b. Camera: detect dots \n",
      " *    c. Generate homography H relating camera image and projector image\n",
      " * 2. Using the homography matrices, warp the image to create anamorphosis\n",
      " * 3. Projector: display the resulting image\n",
      " * \n",
      " */"
     ]
    },
    {
     "cell_type": "code",
     "collapsed": false,
     "input": [
      "from numpy import *"
     ],
     "language": "python",
     "metadata": {},
     "outputs": [],
     "prompt_number": 2
    },
    {
     "cell_type": "code",
     "collapsed": false,
     "input": [
      "a = arange(10)\n",
      "a[0]"
     ],
     "language": "python",
     "metadata": {},
     "outputs": [
      {
       "metadata": {},
       "output_type": "pyout",
       "prompt_number": 3,
       "text": [
        "0"
       ]
      }
     ],
     "prompt_number": 3
    },
    {
     "cell_type": "code",
     "collapsed": false,
     "input": [
      "for i in range(10):\n",
      "    print(a[i])"
     ],
     "language": "python",
     "metadata": {},
     "outputs": [
      {
       "output_type": "stream",
       "stream": "stdout",
       "text": [
        "0\n",
        "1\n",
        "2\n",
        "3\n",
        "4\n",
        "5\n",
        "6\n",
        "7\n",
        "8\n",
        "9\n"
       ]
      }
     ],
     "prompt_number": 13
    },
    {
     "cell_type": "code",
     "collapsed": false,
     "input": [],
     "language": "python",
     "metadata": {},
     "outputs": []
    }
   ],
   "metadata": {}
  }
 ]
}